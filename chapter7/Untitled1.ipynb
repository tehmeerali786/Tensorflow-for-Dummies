{
 "cells": [
  {
   "cell_type": "code",
   "execution_count": 1,
   "metadata": {
    "collapsed": true
   },
   "outputs": [],
   "source": [
    "import tensorflow as tf\n",
    "import os"
   ]
  },
  {
   "cell_type": "code",
   "execution_count": 2,
   "metadata": {},
   "outputs": [
    {
     "name": "stdout",
     "output_type": "stream",
     "text": [
      "Extracting MNIST-data\\train-images-idx3-ubyte.gz\n",
      "Extracting MNIST-data\\train-labels-idx1-ubyte.gz\n",
      "Extracting MNIST-data\\t10k-images-idx3-ubyte.gz\n",
      "Extracting MNIST-data\\t10k-labels-idx1-ubyte.gz\n"
     ]
    }
   ],
   "source": [
    "# Read MNIST Data\n",
    "dataset = tf.contrib.learn.datasets.mnist.read_data_sets('MNIST-data', one_hot=True)"
   ]
  },
  {
   "cell_type": "code",
   "execution_count": 4,
   "metadata": {},
   "outputs": [],
   "source": [
    "# Placeholders for MNIST images\n",
    "img_holder = tf.placeholder(tf.float32, [None, 784])\n",
    "lbl_holder = tf.placeholder(tf.float32, [None, 10])\n",
    "train = tf.placeholder(tf.bool)\n",
    "\n",
    "# Layer settings\n",
    "hid_nodes = 200\n",
    "out_nodes = 10\n",
    "keep_prob = 0.5\n",
    "\n",
    "# Create layers\n",
    "with tf.contrib.framework.arg_scope(\n",
    "\n",
    "    [tf.contrib.layers.fully_connected],\n",
    "    normalizer_fn= tf.contrib.layers.batch_norm,\n",
    "    normalizer_params = {'is_training' : train}):\n",
    "    \n",
    "    layer1 = tf.contrib.layers.fully_connected(img_holder, hid_nodes, scope='layer1')\n",
    "    layer1_drop = tf.layers.dropout(layer1, keep_prob, training=train)\n",
    "    layer2 = tf.contrib.layers.fully_connected(layer1_drop, hid_nodes, scope='layer2')\n",
    "    layer2_drop = tf.layers.dropout(layer2, keep_prob, training=train)\n",
    "    layer3 = tf.contrib.layers.fully_connected(layer2_drop, hid_nodes, scope='layer3')\n",
    "    layer3_drop = tf.layers.dropout(layer3, keep_prob, training=train )\n",
    "    out_layer = tf.contrib.layers.fully_connected(layer3_drop, out_nodes, activation_fn=None, scope= 'layer4')\n",
    "    \n",
    "    "
   ]
  },
  {
   "cell_type": "code",
   "execution_count": 5,
   "metadata": {
    "collapsed": true
   },
   "outputs": [],
   "source": [
    "# Compute loss\n",
    "loss = tf.reduce_mean(tf.nn.softmax_cross_entropy_with_logits(logits=out_layer, labels=lbl_holder))"
   ]
  },
  {
   "cell_type": "code",
   "execution_count": 7,
   "metadata": {},
   "outputs": [],
   "source": [
    "# Create optimizer\n",
    "learning_rate = 0.01\n",
    "num_epochs = 15\n",
    "batch_size = 100\n",
    "num_batches = int(dataset.train.num_examples/batch_size)\n",
    "optimizer = tf.train.AdamOptimizer(learning_rate).minimize(loss)"
   ]
  },
  {
   "cell_type": "code",
   "execution_count": 8,
   "metadata": {
    "collapsed": true
   },
   "outputs": [],
   "source": [
    "# Initialize variables\n",
    "init = tf.global_variables_initializer()"
   ]
  },
  {
   "cell_type": "code",
   "execution_count": 9,
   "metadata": {},
   "outputs": [
    {
     "name": "stdout",
     "output_type": "stream",
     "text": [
      "Success rate:  0.9415\n"
     ]
    }
   ],
   "source": [
    "# Launch session\n",
    "with tf.Session() as sess:\n",
    "    \n",
    "    sess.run(init)\n",
    "    \n",
    "    for epoch in range(num_epochs):\n",
    "        \n",
    "        for batch in range(num_batches):\n",
    "            \n",
    "            img_batch, lbl_batch = dataset.train.next_batch(batch_size)\n",
    "            sess.run(optimizer, feed_dict={img_holder: img_batch, lbl_holder: lbl_batch, train:True})\n",
    "            \n",
    "    # Determine success rate\n",
    "    prediction = tf.equal(tf.argmax(out_layer, 1), tf.argmax(lbl_holder, 1))\n",
    "    success = tf.reduce_mean(tf.cast(prediction, tf.float32))\n",
    "    print('Success rate: ', \n",
    "          sess.run(success, feed_dict={img_holder: dataset.test.images, lbl_holder:dataset.test.labels, train:False}))\n",
    "            "
   ]
  },
  {
   "cell_type": "code",
   "execution_count": null,
   "metadata": {
    "collapsed": true
   },
   "outputs": [],
   "source": []
  }
 ],
 "metadata": {
  "kernelspec": {
   "display_name": "Python 3",
   "language": "python",
   "name": "python3"
  },
  "language_info": {
   "codemirror_mode": {
    "name": "ipython",
    "version": 3
   },
   "file_extension": ".py",
   "mimetype": "text/x-python",
   "name": "python",
   "nbconvert_exporter": "python",
   "pygments_lexer": "ipython3",
   "version": "3.5.3"
  }
 },
 "nbformat": 4,
 "nbformat_minor": 2
}
