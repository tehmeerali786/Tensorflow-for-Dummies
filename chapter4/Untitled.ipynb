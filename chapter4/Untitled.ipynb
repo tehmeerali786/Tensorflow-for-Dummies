{
 "cells": [
  {
   "cell_type": "markdown",
   "metadata": {},
   "source": [
    "# Launching Multiple Graphs in Multiple Session"
   ]
  },
  {
   "cell_type": "code",
   "execution_count": 12,
   "metadata": {
    "collapsed": true
   },
   "outputs": [],
   "source": [
    "import tensorflow as tf\n",
    "import os"
   ]
  },
  {
   "cell_type": "code",
   "execution_count": 13,
   "metadata": {
    "collapsed": true
   },
   "outputs": [],
   "source": [
    "# Enable Logging"
   ]
  },
  {
   "cell_type": "code",
   "execution_count": 14,
   "metadata": {
    "collapsed": true
   },
   "outputs": [],
   "source": [
    "tf.logging.set_verbosity(tf.logging.INFO)"
   ]
  },
  {
   "cell_type": "code",
   "execution_count": 15,
   "metadata": {
    "collapsed": true
   },
   "outputs": [],
   "source": [
    "# Create Tensors"
   ]
  },
  {
   "cell_type": "code",
   "execution_count": 16,
   "metadata": {
    "collapsed": true
   },
   "outputs": [],
   "source": [
    "t1 = tf.constant([1.2, 2.3, 3.4, 4.5])\n",
    "t2 = tf.constant([5.6, 6.7, 7.8, 8.9])\n",
    "t3 = tf.concat([t1, t2], 0)\n",
    "t4 = tf.random_normal([8])\n",
    "t5 = tf.tensordot(t3, t4, 1)"
   ]
  },
  {
   "cell_type": "code",
   "execution_count": 17,
   "metadata": {
    "collapsed": true
   },
   "outputs": [],
   "source": [
    "# Create Operations to Generate Summary Data"
   ]
  },
  {
   "cell_type": "code",
   "execution_count": 18,
   "metadata": {
    "collapsed": true
   },
   "outputs": [],
   "source": [
    "tf.summary.scalar(\"t1\", t1[0])\n",
    "tf.summary.scalar(\"t2\", t2[0])\n",
    "tf.summary.scalar(\"t3\", t3[0])\n",
    "tf.summary.scalar(\"t4\", t4[0])\n",
    "tf.summary.scalar(\"t5\", t5)\n",
    "merged_op = tf.summary.merge_all()"
   ]
  },
  {
   "cell_type": "code",
   "execution_count": 19,
   "metadata": {
    "collapsed": true
   },
   "outputs": [],
   "source": [
    "# Create FileWriter"
   ]
  },
  {
   "cell_type": "code",
   "execution_count": 20,
   "metadata": {
    "collapsed": true
   },
   "outputs": [],
   "source": [
    "file_writer = tf.summary.FileWriter(\"log\", graph=tf.get_default_graph())"
   ]
  },
  {
   "cell_type": "code",
   "execution_count": 21,
   "metadata": {},
   "outputs": [
    {
     "name": "stdout",
     "output_type": "stream",
     "text": [
      "INFO:tensorflow:Result of dot product: -19.871201\n"
     ]
    }
   ],
   "source": [
    "#Execute First Graph\n",
    "with tf.Session() as sess:\n",
    "    \n",
    "    dot_result, summary = sess.run([t5, merged_op])\n",
    "    \n",
    "    tf.logging.info('Result of dot product: %f', dot_result)\n",
    "    \n",
    "    file_writer.add_summary(summary)\n",
    "    file_writer.flush()\n",
    "    \n",
    "    tf.train.write_graph(sess.graph, os.getcwd(), 'graph1.dat')\n",
    "    "
   ]
  },
  {
   "cell_type": "code",
   "execution_count": 22,
   "metadata": {},
   "outputs": [],
   "source": [
    "# Create second graph and make it default"
   ]
  },
  {
   "cell_type": "code",
   "execution_count": 23,
   "metadata": {
    "collapsed": true
   },
   "outputs": [],
   "source": [
    "graph = tf.Graph()\n",
    "with graph.as_default():\n",
    "    \n",
    "    t6 = tf.random_normal([8], 4.0, 8.0)\n",
    "    t7 = tf.fill([8], 6.0)\n",
    "    t8 = tf.reduce_mean(t6 + t7)\n",
    "    \n",
    "    with tf.Session() as sess:\n",
    "         \n",
    "            sess.run(t8)\n",
    "            \n",
    "            tf.train.write_graph(sess.graph, os.getcwd(), 'graph2.dat')"
   ]
  },
  {
   "cell_type": "markdown",
   "metadata": {},
   "source": [
    "sess.run in first returns the value of t5 and has generated summary data\n",
    "sess.urn in second has returned the value of t8 only \n",
    "to view tensorboard --logdir=log in terminal"
   ]
  },
  {
   "cell_type": "code",
   "execution_count": null,
   "metadata": {
    "collapsed": true
   },
   "outputs": [],
   "source": []
  }
 ],
 "metadata": {
  "kernelspec": {
   "display_name": "Python 3",
   "language": "python",
   "name": "python3"
  },
  "language_info": {
   "codemirror_mode": {
    "name": "ipython",
    "version": 3
   },
   "file_extension": ".py",
   "mimetype": "text/x-python",
   "name": "python",
   "nbconvert_exporter": "python",
   "pygments_lexer": "ipython3",
   "version": "3.5.3"
  }
 },
 "nbformat": 4,
 "nbformat_minor": 2
}
