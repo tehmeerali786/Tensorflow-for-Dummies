{
 "cells": [
  {
   "cell_type": "code",
   "execution_count": 1,
   "metadata": {
    "collapsed": true
   },
   "outputs": [],
   "source": [
    "import tensorflow as tf\n",
    "import os\n",
    "import numpy as np\n"
   ]
  },
  {
   "cell_type": "code",
   "execution_count": 3,
   "metadata": {
    "collapsed": true
   },
   "outputs": [],
   "source": [
    "import sys"
   ]
  },
  {
   "cell_type": "code",
   "execution_count": 4,
   "metadata": {},
   "outputs": [],
   "source": [
    "# Split text into words\n",
    "python3 = sys.version_info[0] == 3\n"
   ]
  },
  {
   "cell_type": "code",
   "execution_count": 5,
   "metadata": {},
   "outputs": [
    {
     "data": {
      "text/plain": [
       "True"
      ]
     },
     "execution_count": 5,
     "metadata": {},
     "output_type": "execute_result"
    }
   ],
   "source": [
    "python3"
   ]
  },
  {
   "cell_type": "code",
   "execution_count": 7,
   "metadata": {
    "collapsed": true
   },
   "outputs": [],
   "source": [
    "import string"
   ]
  },
  {
   "cell_type": "code",
   "execution_count": 8,
   "metadata": {},
   "outputs": [],
   "source": [
    "with open('lovecraft.txt', 'r') as f:\n",
    "    input_str = f.read().lower()\n",
    "    if python3:\n",
    "        trans = input_str.maketrans('', '', string.punctuation)\n",
    "        input_str = input_str.translate(trans)\n",
    "    else:\n",
    "        input_str = input_str.decode('utf-8').translate(None, string.punctuation)\n",
    "    words = input_str.split()\n",
    "    num_words = len(words)\n",
    "        \n",
    "    \n",
    "    \n",
    "    \n",
    "    "
   ]
  },
  {
   "cell_type": "code",
   "execution_count": 10,
   "metadata": {
    "collapsed": true
   },
   "outputs": [],
   "source": [
    "import collections"
   ]
  },
  {
   "cell_type": "code",
   "execution_count": 11,
   "metadata": {},
   "outputs": [],
   "source": [
    "# Convert words to values\n",
    "word_freq = collections.Counter(words).most_common()\n",
    "vocab_size = len(word_freq)\n",
    "lookup = dict()\n",
    "for word, _ in word_freq:\n",
    "    lookup[word] = len(lookup)\n",
    "input_vals = np.asarray([[lookup[str(word)]] for word in words])\n",
    "input_vals = input_vals.reshape(-1, )\n",
    "    \n",
    "    "
   ]
  },
  {
   "cell_type": "code",
   "execution_count": 12,
   "metadata": {
    "collapsed": true
   },
   "outputs": [],
   "source": [
    "# Set values \n",
    "input_size = 6\n",
    "batch_size = 10\n",
    "num_hidden = 600\n",
    "    \n",
    "    "
   ]
  },
  {
   "cell_type": "code",
   "execution_count": 13,
   "metadata": {
    "collapsed": true
   },
   "outputs": [],
   "source": [
    "# Placeholder \n",
    "input_holder = tf.placeholder(tf.float32, [batch_size, input_size])\n",
    "label_holder = tf.placeholder(tf.float32, [batch_size, vocab_size])\n",
    "    \n",
    "    "
   ]
  },
  {
   "cell_type": "code",
   "execution_count": 15,
   "metadata": {},
   "outputs": [],
   "source": [
    "# Reshape input and feed to RNN\n",
    "cell = tf.nn.rnn_cell.BasicRNNCell(num_hidden)\n",
    "outputs, _ = tf.nn.static_rnn(cell, [input_holder], dtype=tf.float32)\n",
    "    \n",
    "    "
   ]
  },
  {
   "cell_type": "code",
   "execution_count": 21,
   "metadata": {},
   "outputs": [],
   "source": [
    "# Compute loss \n",
    "weights = tf.Variable(tf.random_normal([num_hidden, vocab_size]))\n",
    "\n",
    "biases = tf.Variable(tf.random_normal([vocab_size]))"
   ]
  },
  {
   "cell_type": "code",
   "execution_count": 22,
   "metadata": {
    "collapsed": true
   },
   "outputs": [],
   "source": [
    "model = tf.matmul(outputs[-1], weights) + biases\n",
    "loss = tf.reduce_mean(tf.nn.softmax_cross_entropy_with_logits(logits=model, labels=label_holder))"
   ]
  },
  {
   "cell_type": "code",
   "execution_count": 23,
   "metadata": {
    "collapsed": true
   },
   "outputs": [],
   "source": [
    "# Create optimizer and check result\n",
    "optimizer = tf.train.AdagradOptimizer(0.1).minimize(loss)\n",
    "check = tf.equal(tf.argmax(model, 1), tf.argmax(label_holder, 1))\n",
    "correct = tf.reduce_sum(tf.cast(check, tf.float32))"
   ]
  },
  {
   "cell_type": "code",
   "execution_count": 25,
   "metadata": {
    "collapsed": true
   },
   "outputs": [],
   "source": [
    "import time"
   ]
  },
  {
   "cell_type": "code",
   "execution_count": 26,
   "metadata": {},
   "outputs": [
    {
     "name": "stdout",
     "output_type": "stream",
     "text": [
      "Step 0 -Accuracy = 0.0\n",
      "Step 1000 -Accuracy = 8.63\n",
      "Step 2000 -Accuracy = 30.24\n",
      "Step 3000 -Accuracy = 53.45\n",
      "Step 4000 -Accuracy = 69.0\n",
      "Step 5000 -Accuracy = 77.29\n",
      "Step 6000 -Accuracy = 82.46\n",
      "Step 7000 -Accuracy = 84.44\n",
      "Step 8000 -Accuracy = 87.85\n",
      "Step 9000 -Accuracy = 89.06\n",
      "Step 10000 -Accuracy = 90.18\n",
      "Step 11000 -Accuracy = 91.75\n",
      "Step 12000 -Accuracy = 92.32\n",
      "Step 13000 -Accuracy = 93.95\n",
      "Step 14000 -Accuracy = 94.04\n",
      "Step 15000 -Accuracy = 94.64\n",
      "Step 16000 -Accuracy = 95.02\n",
      "Time to reach 95% accuracy:  110.20 seconds\n"
     ]
    }
   ],
   "source": [
    "# Execute the graph\n",
    "start_time = time.time()\n",
    "with tf.Session() as sess:\n",
    "    sess.run(tf.global_variables_initializer())\n",
    "    input_block = np.empty([batch_size, input_size])\n",
    "    label_block = np.empty([batch_size, vocab_size])\n",
    "    \n",
    "    step = 0\n",
    "    num_correct = 0.\n",
    "    accuracy = 0.\n",
    "    while accuracy < 95:\n",
    "        \n",
    "        for i in range(batch_size):\n",
    "            \n",
    "            offset = np.random.randint(num_words - (input_size+1))\n",
    "            input_block[i, :] = input_vals[offset:offset+input_size]\n",
    "            label_block[i, :] = np.eye(vocab_size) [input_vals[offset+input_size]]\n",
    "        _, corr = sess.run([optimizer, correct],\n",
    "                          feed_dict = {input_holder: input_block, label_holder: label_block})\n",
    "        num_correct += corr\n",
    "        accuracy = 100 * num_correct/(1000*batch_size)\n",
    "        if step % 1000 == 0:\n",
    "            print('Step', step, '-Accuracy =', accuracy)\n",
    "            num_correct = 0\n",
    "        step += 1\n",
    "        \n",
    "        \n",
    "# Display timing result\n",
    "duration = time.time() - start_time\n",
    "print('Time to reach 95% accuracy: {: .2f} seconds'.format(duration))"
   ]
  },
  {
   "cell_type": "code",
   "execution_count": null,
   "metadata": {
    "collapsed": true
   },
   "outputs": [],
   "source": []
  }
 ],
 "metadata": {
  "kernelspec": {
   "display_name": "Python 3",
   "language": "python",
   "name": "python3"
  },
  "language_info": {
   "codemirror_mode": {
    "name": "ipython",
    "version": 3
   },
   "file_extension": ".py",
   "mimetype": "text/x-python",
   "name": "python",
   "nbconvert_exporter": "python",
   "pygments_lexer": "ipython3",
   "version": "3.5.3"
  }
 },
 "nbformat": 4,
 "nbformat_minor": 2
}
