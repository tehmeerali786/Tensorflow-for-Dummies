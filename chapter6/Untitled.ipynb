{
 "cells": [
  {
   "cell_type": "code",
   "execution_count": 1,
   "metadata": {
    "collapsed": true
   },
   "outputs": [],
   "source": [
    "import tensorflow as tf\n",
    "import os"
   ]
  },
  {
   "cell_type": "code",
   "execution_count": 4,
   "metadata": {},
   "outputs": [
    {
     "name": "stdout",
     "output_type": "stream",
     "text": [
      "m =  2.14709\n",
      "b =  3.08526\n"
     ]
    }
   ],
   "source": [
    "# Random input values\n",
    "N = 40\n",
    "x = tf.random_normal([N])\n",
    "m_real = tf.truncated_normal([N], mean=2.0)\n",
    "b_real = tf.truncated_normal([N], mean=3.0)\n",
    "y = m_real * x + b_real\n",
    "\n",
    "# Variables\n",
    "m = tf.Variable(tf.random_normal([]))\n",
    "b = tf.Variable(tf.random_normal([]))\n",
    "\n",
    "# Compute model and loss\n",
    "model = tf.add(tf.multiply(x, m), b)\n",
    "loss = tf.reduce_mean(tf.pow(model-y, 2))\n",
    "\n",
    "# Create optimizer\n",
    "learn_rate = 0.1\n",
    "num_epochs = 200\n",
    "num_batches = N\n",
    "optimizer = tf.train.GradientDescentOptimizer(learn_rate).minimize(loss)\n",
    "\n",
    "# Initialize variables\n",
    "init = tf.global_variables_initializer()\n",
    "\n",
    "# Launch session\n",
    "with tf.Session() as sess:\n",
    "    sess.run(init)\n",
    "    \n",
    "    # Perform training\n",
    "    for epoch in range(num_epochs):\n",
    "        for batch in range(num_batches):\n",
    "            sess.run(optimizer)\n",
    "            \n",
    "    print('m = ', sess.run(m))\n",
    "    print('b = ', sess.run(b))"
   ]
  },
  {
   "cell_type": "markdown",
   "metadata": {},
   "source": []
  }
 ],
 "metadata": {
  "kernelspec": {
   "display_name": "Python 3",
   "language": "python",
   "name": "python3"
  },
  "language_info": {
   "codemirror_mode": {
    "name": "ipython",
    "version": 3
   },
   "file_extension": ".py",
   "mimetype": "text/x-python",
   "name": "python",
   "nbconvert_exporter": "python",
   "pygments_lexer": "ipython3",
   "version": "3.5.3"
  }
 },
 "nbformat": 4,
 "nbformat_minor": 2
}
