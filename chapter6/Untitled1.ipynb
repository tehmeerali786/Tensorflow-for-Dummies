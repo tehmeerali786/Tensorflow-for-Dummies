{
 "cells": [
  {
   "cell_type": "code",
   "execution_count": 1,
   "metadata": {
    "collapsed": true
   },
   "outputs": [],
   "source": [
    "import tensorflow as tf\n",
    "import os"
   ]
  },
  {
   "cell_type": "markdown",
   "metadata": {},
   "source": [
    "# Polynomial Regression"
   ]
  },
  {
   "cell_type": "code",
   "execution_count": 6,
   "metadata": {},
   "outputs": [
    {
     "name": "stdout",
     "output_type": "stream",
     "text": [
      "a =  2.92524\n",
      "b =  -1.82161\n",
      "c =  -0.681877\n",
      "d =  1.0281\n"
     ]
    }
   ],
   "source": [
    "# Random input values\n",
    "N = 40\n",
    "x = tf.random_normal([N])\n",
    "a_real = tf.truncated_normal([N], mean=3.)\n",
    "b_real = tf.truncated_normal([N], mean= -2.)\n",
    "c_real = tf.truncated_normal([N], mean= -1.)\n",
    "d_real = tf.truncated_normal([N], mean=1)\n",
    "\n",
    "y = a_real * tf.pow(x, 3) + b_real * tf.pow(x, 2) + c_real * x + d_real\n",
    "\n",
    "# Variables\n",
    "a = tf.Variable(tf.random_normal([]))\n",
    "b = tf.Variable(tf.random_normal([]))\n",
    "c = tf.Variable(tf.random_normal([]))\n",
    "d = tf.Variable(tf.random_normal([]))\n",
    "\n",
    "\n",
    "# Compute model and loss\n",
    "model = a * tf.pow(x, 3) + b * tf.pow(x, 2) + c * x + d\n",
    "loss = tf.reduce_mean(tf.pow(model-y, 2))\n",
    "\n",
    "# Create optimizer\n",
    "learn_rate = 0.01\n",
    "num_epochs = 400\n",
    "num_batches = N\n",
    "optimizer = tf.train.GradientDescentOptimizer(learn_rate).minimize(loss)\n",
    "\n",
    "# Initialize variables\n",
    "init = tf.global_variables_initializer()\n",
    "\n",
    "# Launch session\n",
    "with tf.Session() as sess:\n",
    "    sess.run(init)\n",
    "    \n",
    "    for epoch in range(num_epochs):\n",
    "        for batch in range(N):\n",
    "            sess.run(optimizer)\n",
    "            \n",
    "    print('a = ', sess.run(a))\n",
    "    print('b = ', sess.run(b))\n",
    "    print('c = ', sess.run(c))\n",
    "    print('d = ', sess.run(d))"
   ]
  },
  {
   "cell_type": "code",
   "execution_count": null,
   "metadata": {
    "collapsed": true
   },
   "outputs": [],
   "source": []
  }
 ],
 "metadata": {
  "kernelspec": {
   "display_name": "Python 3",
   "language": "python",
   "name": "python3"
  },
  "language_info": {
   "codemirror_mode": {
    "name": "ipython",
    "version": 3
   },
   "file_extension": ".py",
   "mimetype": "text/x-python",
   "name": "python",
   "nbconvert_exporter": "python",
   "pygments_lexer": "ipython3",
   "version": "3.5.3"
  }
 },
 "nbformat": 4,
 "nbformat_minor": 2
}
