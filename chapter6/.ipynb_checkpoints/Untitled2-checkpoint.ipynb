{
 "cells": [
  {
   "cell_type": "code",
   "execution_count": 1,
   "metadata": {
    "collapsed": true
   },
   "outputs": [],
   "source": [
    "import tensorflow as tf\n",
    "import os"
   ]
  },
  {
   "cell_type": "markdown",
   "metadata": {},
   "source": [
    "## Binary Logistic Regression"
   ]
  },
  {
   "cell_type": "code",
   "execution_count": 6,
   "metadata": {},
   "outputs": [
    {
     "name": "stdout",
     "output_type": "stream",
     "text": [
      "m =  4.01406\n",
      "b =  -13.646\n"
     ]
    }
   ],
   "source": [
    "N = 40\n",
    "x = tf.lin_space(0., 5., N)\n",
    "y = tf.constant([0., 0., 0., 0., 0., 0., 0., 0., 0., 0., \n",
    "                1., 0., 0., 1., 0., 0., 0., 1., 0., 0., 1., 0., 1., 1., 1.,\n",
    "                1., 1., 1., 1., 1., \n",
    "                1., 1., 1., 1., 1., 1., 1., 1., 1., 1.])\n",
    "\n",
    "# Variables\n",
    "m = tf.Variable(0.)\n",
    "b = tf.Variable(0.)\n",
    "\n",
    "# Compute model and loss\n",
    "model = tf.nn.sigmoid(tf.add(tf.multiply(x, m), b))\n",
    "loss = -1. * tf.reduce_sum(y * tf.log(model) + (1. - y) * (1. - tf.log(model)))\n",
    "\n",
    "# Create optimizer\n",
    "learn_rate = 0.005\n",
    "num_epochs = 350\n",
    "optimizer = tf.train.GradientDescentOptimizer(learn_rate).minimize(loss)\n",
    "\n",
    "# Initialize variables\n",
    "init = tf.global_variables_initializer()\n",
    "\n",
    "# Launch session\n",
    "with tf.Session() as sess:\n",
    "    sess.run(init)\n",
    "    \n",
    "    for epoch in range(num_epochs):\n",
    "        sess.run(optimizer)\n",
    "        \n",
    "    print('m = ', sess.run(m))\n",
    "    print('b = ', sess.run(b))"
   ]
  },
  {
   "cell_type": "code",
   "execution_count": null,
   "metadata": {
    "collapsed": true
   },
   "outputs": [],
   "source": []
  }
 ],
 "metadata": {
  "kernelspec": {
   "display_name": "Python 3",
   "language": "python",
   "name": "python3"
  },
  "language_info": {
   "codemirror_mode": {
    "name": "ipython",
    "version": 3
   },
   "file_extension": ".py",
   "mimetype": "text/x-python",
   "name": "python",
   "nbconvert_exporter": "python",
   "pygments_lexer": "ipython3",
   "version": "3.5.3"
  }
 },
 "nbformat": 4,
 "nbformat_minor": 2
}
