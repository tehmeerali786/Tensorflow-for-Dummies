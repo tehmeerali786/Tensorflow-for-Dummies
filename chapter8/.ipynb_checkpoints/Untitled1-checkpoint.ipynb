{
 "cells": [
  {
   "cell_type": "code",
   "execution_count": 1,
   "metadata": {
    "collapsed": true
   },
   "outputs": [],
   "source": [
    "import tensorflow as tf\n",
    "import os\n",
    "import numpy as np"
   ]
  },
  {
   "cell_type": "code",
   "execution_count": 3,
   "metadata": {},
   "outputs": [],
   "source": [
    "# Load and pre-process PNG data\n",
    "queue = tf.train.string_input_producer(['input_aircraft.png'])\n",
    "reader = tf.WholeFileReader()\n",
    "_, png_data = reader.read(queue)\n",
    "orig_tensor = tf.image.decode_png(png_data)\n",
    "img_tensor = tf.reshape(orig_tensor, [-1, 1, 232, 706])\n",
    "img_tensor = tf.transpose(img_tensor, [0, 2, 3, 1])\n",
    "img_tensor = tf.image.convert_image_dtype(img_tensor, tf.float32)"
   ]
  },
  {
   "cell_type": "code",
   "execution_count": 4,
   "metadata": {
    "collapsed": true
   },
   "outputs": [],
   "source": [
    "# Remove noise using a box filter\n",
    "conv_filter = np.zeros([3, 3, 1, 1])"
   ]
  },
  {
   "cell_type": "code",
   "execution_count": 5,
   "metadata": {},
   "outputs": [
    {
     "data": {
      "text/plain": [
       "array([[[[ 0.]],\n",
       "\n",
       "        [[ 0.]],\n",
       "\n",
       "        [[ 0.]]],\n",
       "\n",
       "\n",
       "       [[[ 0.]],\n",
       "\n",
       "        [[ 0.]],\n",
       "\n",
       "        [[ 0.]]],\n",
       "\n",
       "\n",
       "       [[[ 0.]],\n",
       "\n",
       "        [[ 0.]],\n",
       "\n",
       "        [[ 0.]]]])"
      ]
     },
     "execution_count": 5,
     "metadata": {},
     "output_type": "execute_result"
    }
   ],
   "source": [
    "conv_filter"
   ]
  },
  {
   "cell_type": "code",
   "execution_count": 8,
   "metadata": {
    "collapsed": true
   },
   "outputs": [],
   "source": [
    "conv_filter[0, 0, :, :] = 0.1111"
   ]
  },
  {
   "cell_type": "code",
   "execution_count": 9,
   "metadata": {},
   "outputs": [
    {
     "data": {
      "text/plain": [
       "array([[[[ 0.1111]],\n",
       "\n",
       "        [[ 0.    ]],\n",
       "\n",
       "        [[ 0.    ]]],\n",
       "\n",
       "\n",
       "       [[[ 0.    ]],\n",
       "\n",
       "        [[ 0.    ]],\n",
       "\n",
       "        [[ 0.    ]]],\n",
       "\n",
       "\n",
       "       [[[ 0.    ]],\n",
       "\n",
       "        [[ 0.    ]],\n",
       "\n",
       "        [[ 0.    ]]]])"
      ]
     },
     "execution_count": 9,
     "metadata": {},
     "output_type": "execute_result"
    }
   ],
   "source": [
    "conv_filter"
   ]
  },
  {
   "cell_type": "code",
   "execution_count": 10,
   "metadata": {
    "collapsed": true
   },
   "outputs": [],
   "source": [
    "conv_filter[0, 1, :, :] = 0.1111\n",
    "conv_filter[0, 2, :, :] = 0.1111\n",
    "conv_filter[1, 0, :, :] = 0.1111\n",
    "conv_filter[1, 1, :, :] = 0.1111\n",
    "conv_filter[1, 2, :, :] = 0.1111\n",
    "conv_filter[2, 0, :, :] = 0.1111\n",
    "conv_filter[2, 1, :, :] = 0.1111\n",
    "conv_filter[2, 2, :, :] = 0.1111"
   ]
  },
  {
   "cell_type": "code",
   "execution_count": 11,
   "metadata": {
    "collapsed": true
   },
   "outputs": [],
   "source": [
    "img_tensor = tf.nn.conv2d(img_tensor, conv_filter, [1, 1, 1, 1], 'SAME')"
   ]
  },
  {
   "cell_type": "code",
   "execution_count": 12,
   "metadata": {
    "collapsed": true
   },
   "outputs": [],
   "source": [
    "# Increase contrast\n",
    "img_tensor = tf.reshape(img_tensor, [232, 706, 1])\n",
    "img_tensor = tf.image.adjust_contrast(img_tensor, 0.8)"
   ]
  },
  {
   "cell_type": "code",
   "execution_count": 13,
   "metadata": {
    "collapsed": true
   },
   "outputs": [],
   "source": [
    "# Flip horizontal\n",
    "img_tensor = tf.image.flip_left_right(img_tensor)"
   ]
  },
  {
   "cell_type": "code",
   "execution_count": 15,
   "metadata": {},
   "outputs": [],
   "source": [
    "# Create summary data and FileWriter\n",
    "img_tensor = tf.reshape(img_tensor, [1, 232, 706, 1])\n",
    "img_tensor = tf.image.convert_image_dtype(img_tensor, tf.uint8)\n",
    "summary_op = tf.summary.image('Output', img_tensor)\n",
    "file_writer = tf.summary.FileWriter('log')"
   ]
  },
  {
   "cell_type": "code",
   "execution_count": 16,
   "metadata": {
    "collapsed": true
   },
   "outputs": [],
   "source": [
    "# Store result to PNG \n",
    "img_tensor = tf.reshape(img_tensor, [232, 706, 1])\n",
    "img_tensor = tf.image.encode_png(img_tensor)\n",
    "with tf.Session() as sess:\n",
    "    \n",
    "    coord = tf.train.Coordinator()\n",
    "    threads = tf.train.start_queue_runners(coord = coord)\n",
    "    \n",
    "    output_data, summary = sess.run([img_tensor, summary_op])\n",
    "    \n",
    "    output_file = open('output_aircraft.png', 'wb+')\n",
    "    output_file.write(output_data)\n",
    "    output_file.close()\n",
    "    \n",
    "    file_writer.add_summary(summary)\n",
    "    file_writer.flush()\n",
    "    \n",
    "    coord.request_stop()\n",
    "    coord.join(threads)"
   ]
  },
  {
   "cell_type": "code",
   "execution_count": null,
   "metadata": {
    "collapsed": true
   },
   "outputs": [],
   "source": []
  }
 ],
 "metadata": {
  "kernelspec": {
   "display_name": "Python 3",
   "language": "python",
   "name": "python3"
  },
  "language_info": {
   "codemirror_mode": {
    "name": "ipython",
    "version": 3
   },
   "file_extension": ".py",
   "mimetype": "text/x-python",
   "name": "python",
   "nbconvert_exporter": "python",
   "pygments_lexer": "ipython3",
   "version": "3.5.3"
  }
 },
 "nbformat": 4,
 "nbformat_minor": 2
}
