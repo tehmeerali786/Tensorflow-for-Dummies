{
 "cells": [
  {
   "cell_type": "code",
   "execution_count": 1,
   "metadata": {
    "collapsed": true
   },
   "outputs": [],
   "source": [
    "import tensorflow as tf"
   ]
  },
  {
   "cell_type": "code",
   "execution_count": 13,
   "metadata": {
    "collapsed": true
   },
   "outputs": [],
   "source": [
    "import os"
   ]
  },
  {
   "cell_type": "code",
   "execution_count": 2,
   "metadata": {
    "collapsed": true
   },
   "outputs": [],
   "source": [
    "# Define trainable variable\n",
    "x_var = tf.Variable(0., name= 'x_result')"
   ]
  },
  {
   "cell_type": "code",
   "execution_count": 4,
   "metadata": {},
   "outputs": [],
   "source": [
    "# Define an untrainable variable to hold the global step\n",
    "step_var = tf.Variable(0., trainable=False)"
   ]
  },
  {
   "cell_type": "code",
   "execution_count": 5,
   "metadata": {
    "collapsed": true
   },
   "outputs": [],
   "source": [
    "# Express loss in terms of the variable\n",
    "loss = x_var * x_var - 4.0 * x_var + 5.0"
   ]
  },
  {
   "cell_type": "code",
   "execution_count": 6,
   "metadata": {
    "collapsed": true
   },
   "outputs": [],
   "source": [
    "# Find variable value that minimize loss\n",
    "learn_rate = 0.1\n",
    "num_epochs = 40\n",
    "optimizer = tf.train.GradientDescentOptimizer(learn_rate).minimize(loss, global_step=step_var)\n"
   ]
  },
  {
   "cell_type": "code",
   "execution_count": 7,
   "metadata": {
    "collapsed": true
   },
   "outputs": [],
   "source": [
    "# Initialize variables\n",
    "init = tf.global_variables_initializer()"
   ]
  },
  {
   "cell_type": "code",
   "execution_count": 9,
   "metadata": {},
   "outputs": [],
   "source": [
    "# Create the saver\n",
    "saver = tf.train.Saver()"
   ]
  },
  {
   "cell_type": "code",
   "execution_count": 10,
   "metadata": {
    "collapsed": true
   },
   "outputs": [],
   "source": [
    "# Create summary data and FileWriter\n",
    "summary_op = tf.summary.scalar('X', x_var)\n",
    "file_writer = tf.summary.FileWriter('log', graph=tf.get_default_graph())"
   ]
  },
  {
   "cell_type": "code",
   "execution_count": 14,
   "metadata": {},
   "outputs": [
    {
     "name": "stdout",
     "output_type": "stream",
     "text": [
      "Step 1: Computed result = 0.400000\n",
      "Step 2: Computed result = 0.720000\n",
      "Step 3: Computed result = 0.976000\n",
      "Step 4: Computed result = 1.180800\n",
      "Step 5: Computed result = 1.344640\n",
      "Step 6: Computed result = 1.475712\n",
      "Step 7: Computed result = 1.580570\n",
      "Step 8: Computed result = 1.664456\n",
      "Step 9: Computed result = 1.731565\n",
      "Step 10: Computed result = 1.785252\n",
      "Step 11: Computed result = 1.828201\n",
      "Step 12: Computed result = 1.862561\n",
      "Step 13: Computed result = 1.890049\n",
      "Step 14: Computed result = 1.912039\n",
      "Step 15: Computed result = 1.929631\n",
      "Step 16: Computed result = 1.943705\n",
      "Step 17: Computed result = 1.954964\n",
      "Step 18: Computed result = 1.963971\n",
      "Step 19: Computed result = 1.971177\n",
      "Step 20: Computed result = 1.976941\n",
      "Step 21: Computed result = 1.981553\n",
      "Step 22: Computed result = 1.985243\n",
      "Step 23: Computed result = 1.988194\n",
      "Step 24: Computed result = 1.990555\n",
      "Step 25: Computed result = 1.992444\n",
      "Step 26: Computed result = 1.993955\n",
      "Step 27: Computed result = 1.995164\n",
      "Step 28: Computed result = 1.996131\n",
      "Step 29: Computed result = 1.996905\n",
      "Step 30: Computed result = 1.997524\n",
      "Step 31: Computed result = 1.998019\n",
      "Step 32: Computed result = 1.998415\n",
      "Step 33: Computed result = 1.998732\n",
      "Step 34: Computed result = 1.998986\n",
      "Step 35: Computed result = 1.999189\n",
      "Step 36: Computed result = 1.999351\n",
      "Step 37: Computed result = 1.999481\n",
      "Step 38: Computed result = 1.999585\n",
      "Step 39: Computed result = 1.999668\n",
      "Step 40: Computed result = 1.999734\n",
      "Final x_var: 1.999734\n"
     ]
    }
   ],
   "source": [
    "# Launch session\n",
    "with tf.Session() as sess:\n",
    "    sess.run(init)\n",
    "    \n",
    "    for epoch in range(num_epochs):\n",
    "        _, step, result, summary = sess.run([optimizer, step_var, x_var, summary_op])\n",
    "        print('Step %d: Computed result = %f' % (step, result))\n",
    "        \n",
    "        # Print summary data\n",
    "        file_writer.add_summary(summary, global_step=step)\n",
    "        file_writer.flush()\n",
    "        \n",
    "    # Store variable data\n",
    "    saver.save(sess, os.getcwd() + '/output')\n",
    "    print('Final x_var: %f' % sess.run(x_var))"
   ]
  },
  {
   "cell_type": "code",
   "execution_count": null,
   "metadata": {
    "collapsed": true
   },
   "outputs": [],
   "source": []
  }
 ],
 "metadata": {
  "kernelspec": {
   "display_name": "Python 3",
   "language": "python",
   "name": "python3"
  },
  "language_info": {
   "codemirror_mode": {
    "name": "ipython",
    "version": 3
   },
   "file_extension": ".py",
   "mimetype": "text/x-python",
   "name": "python",
   "nbconvert_exporter": "python",
   "pygments_lexer": "ipython3",
   "version": "3.5.3"
  }
 },
 "nbformat": 4,
 "nbformat_minor": 2
}
