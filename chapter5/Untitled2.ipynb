{
 "cells": [
  {
   "cell_type": "code",
   "execution_count": 2,
   "metadata": {},
   "outputs": [],
   "source": [
    "import tensorflow as tf\n",
    "import os"
   ]
  },
  {
   "cell_type": "code",
   "execution_count": 7,
   "metadata": {},
   "outputs": [
    {
     "name": "stdout",
     "output_type": "stream",
     "text": [
      "INFO:tensorflow:Create CheckpointSaverHook.\n",
      "Begining the session\n",
      "Loss:  5.0\n",
      "INFO:tensorflow:Saving checkpoints for 0 into ckpt_dir\\output.\n",
      "Loss:  5.0\n",
      "Loss:  3.56\n",
      "Loss:  2.6384\n",
      "Loss:  2.04858\n",
      "Loss:  1.67109\n",
      "Loss:  1.4295\n",
      "Loss:  1.17592\n",
      "Loss:  1.17592\n",
      "Loss:  1.11259\n",
      "Loss:  1.07206\n",
      "Loss:  1.04612\n",
      "Loss:  1.02951\n",
      "Loss:  1.01889\n",
      "Loss:  1.01209\n",
      "Loss:  1.00774\n",
      "Loss:  1.00495\n",
      "Loss:  1.00317\n",
      "Loss:  1.00203\n",
      "Loss:  1.0013\n",
      "Loss:  1.00083\n",
      "Loss:  1.00053\n",
      "Loss:  1.00034\n",
      "Loss:  1.00022\n",
      "Loss:  1.00014\n",
      "Loss:  1.00009\n",
      "Loss:  1.00006\n",
      "Loss:  1.00004\n",
      "Loss:  1.00002\n",
      "Loss:  1.00002\n",
      "Loss:  1.00001\n",
      "Loss:  1.00001\n",
      "Loss:  1.0\n",
      "Loss:  1.0\n",
      "Loss:  1.0\n",
      "Loss:  1.0\n",
      "Loss:  1.0\n",
      "Loss:  1.0\n",
      "Loss:  1.0\n",
      "Loss:  1.0\n",
      "Loss:  1.0\n",
      "The session is about to end!\n"
     ]
    }
   ],
   "source": [
    "# Custom Session Hook\n",
    "class CustomHook(tf.train.SessionRunHook):\n",
    "    \n",
    "    def begin(sels):\n",
    "        print('Begining the session')\n",
    "        \n",
    "    def before_run(self, run_context):\n",
    "        return tf.train.SessionRunArgs(loss)\n",
    "    \n",
    "    def after_run(self, run_context, run_values):\n",
    "        if run_context.original_args != 'init':\n",
    "            print('Loss: ', run_values.results)\n",
    "            \n",
    "    def end(self, session):\n",
    "        print('The session is about to end!')\n",
    "        \n",
    "# Define a trianable variable\n",
    "x_var = tf.Variable(0., name='x_result')\n",
    "\n",
    "# Define an untrainable variable to hold the global_step\n",
    "#step_var = tf.train.create_global_step()\n",
    "\n",
    "# Express loss in terms of the variable \n",
    "loss = x_var * x_var -4.0 * x_var + 5.0\n",
    "\n",
    "# Find variable value that minimize loss\n",
    "learn_rate = 0.1\n",
    "num_epochs = 40\n",
    "optimizer = tf.train.GradientDescentOptimizer(learn_rate).minimize(loss)\n",
    "\n",
    "# Initialize variables\n",
    "init = tf.global_variables_initializer()\n",
    "\n",
    "# Create summary operation\n",
    "summary_op = tf.summary.scalar('x', x_var)\n",
    "\n",
    "# Create hooks\n",
    "custom_hook = CustomHook()\n",
    "checkpoint_hook = tf.train.CheckpointSaverHook(checkpoint_dir='ckpt_dir', checkpoint_basename='output', save_steps=10)\n",
    "summary_hook = tf.train.SummarySaverHook(save_steps=10, output_dir='log1', summary_op=summary_op)\n",
    "hooks = [custom_hook, checkpoint_hook, summary_hook]\n",
    "\n",
    "# Launch session\n",
    "with tf.train.MonitoredSession(hooks=hooks) as sess:\n",
    "    sess.run(init)\n",
    "    \n",
    "    for epoch in range(num_epochs):\n",
    "        sess.run(optimizer)\n",
    "        \n",
    "\n",
    "\n"
   ]
  },
  {
   "cell_type": "code",
   "execution_count": null,
   "metadata": {
    "collapsed": true
   },
   "outputs": [],
   "source": []
  }
 ],
 "metadata": {
  "kernelspec": {
   "display_name": "Python 3",
   "language": "python",
   "name": "python3"
  },
  "language_info": {
   "codemirror_mode": {
    "name": "ipython",
    "version": 3
   },
   "file_extension": ".py",
   "mimetype": "text/x-python",
   "name": "python",
   "nbconvert_exporter": "python",
   "pygments_lexer": "ipython3",
   "version": "3.5.3"
  }
 },
 "nbformat": 4,
 "nbformat_minor": 2
}
